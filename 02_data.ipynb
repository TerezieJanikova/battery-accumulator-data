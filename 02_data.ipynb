{
 "cells": [
  {
   "cell_type": "code",
   "execution_count": null,
   "id": "0baf2be6",
   "metadata": {},
   "outputs": [
    {
     "data": {
      "text/html": [
       "<div>\n",
       "<style scoped>\n",
       "    .dataframe tbody tr th:only-of-type {\n",
       "        vertical-align: middle;\n",
       "    }\n",
       "\n",
       "    .dataframe tbody tr th {\n",
       "        vertical-align: top;\n",
       "    }\n",
       "\n",
       "    .dataframe thead th {\n",
       "        text-align: right;\n",
       "    }\n",
       "</style>\n",
       "<table border=\"1\" class=\"dataframe\">\n",
       "  <thead>\n",
       "    <tr style=\"text-align: right;\">\n",
       "      <th></th>\n",
       "      <th>Exporter Country ID</th>\n",
       "      <th>Exporter Country</th>\n",
       "      <th>Year</th>\n",
       "      <th>Trade Value</th>\n",
       "      <th>HS6</th>\n",
       "      <th>Cube</th>\n",
       "    </tr>\n",
       "  </thead>\n",
       "  <tbody>\n",
       "    <tr>\n",
       "      <th>0</th>\n",
       "      <td>afago</td>\n",
       "      <td>Angola</td>\n",
       "      <td>2018</td>\n",
       "      <td>334.0</td>\n",
       "      <td>16850610</td>\n",
       "      <td>trade_i_baci_a_96</td>\n",
       "    </tr>\n",
       "    <tr>\n",
       "      <th>1</th>\n",
       "      <td>afben</td>\n",
       "      <td>Benin</td>\n",
       "      <td>2018</td>\n",
       "      <td>454553.0</td>\n",
       "      <td>16850610</td>\n",
       "      <td>trade_i_baci_a_96</td>\n",
       "    </tr>\n",
       "    <tr>\n",
       "      <th>2</th>\n",
       "      <td>afbfa</td>\n",
       "      <td>Burkina Faso</td>\n",
       "      <td>2018</td>\n",
       "      <td>630.0</td>\n",
       "      <td>16850610</td>\n",
       "      <td>trade_i_baci_a_96</td>\n",
       "    </tr>\n",
       "    <tr>\n",
       "      <th>3</th>\n",
       "      <td>afbwa</td>\n",
       "      <td>Botswana</td>\n",
       "      <td>2018</td>\n",
       "      <td>6212.0</td>\n",
       "      <td>16850610</td>\n",
       "      <td>trade_i_baci_a_96</td>\n",
       "    </tr>\n",
       "    <tr>\n",
       "      <th>4</th>\n",
       "      <td>afcaf</td>\n",
       "      <td>Central African Republic</td>\n",
       "      <td>2018</td>\n",
       "      <td>8726.0</td>\n",
       "      <td>16850610</td>\n",
       "      <td>trade_i_baci_a_96</td>\n",
       "    </tr>\n",
       "  </tbody>\n",
       "</table>\n",
       "</div>"
      ],
      "text/plain": [
       "  Exporter Country ID          Exporter Country  Year  Trade Value       HS6  \\\n",
       "0               afago                    Angola  2018        334.0  16850610   \n",
       "1               afben                     Benin  2018     454553.0  16850610   \n",
       "2               afbfa              Burkina Faso  2018        630.0  16850610   \n",
       "3               afbwa                  Botswana  2018       6212.0  16850610   \n",
       "4               afcaf  Central African Republic  2018       8726.0  16850610   \n",
       "\n",
       "                Cube  \n",
       "0  trade_i_baci_a_96  \n",
       "1  trade_i_baci_a_96  \n",
       "2  trade_i_baci_a_96  \n",
       "3  trade_i_baci_a_96  \n",
       "4  trade_i_baci_a_96  "
      ]
     },
     "execution_count": 1,
     "metadata": {},
     "output_type": "execute_result"
    }
   ],
   "source": [
    "import pandas as pd\n",
    "\n",
    "df = pd.read_csv('oec_all_data_combined.csv')\n",
    "\n",
    "df.head()\n"
   ]
  },
  {
   "cell_type": "code",
   "execution_count": null,
   "id": "aa38f5a0",
   "metadata": {},
   "outputs": [
    {
     "data": {
      "text/html": [
       "<div>\n",
       "<style scoped>\n",
       "    .dataframe tbody tr th:only-of-type {\n",
       "        vertical-align: middle;\n",
       "    }\n",
       "\n",
       "    .dataframe tbody tr th {\n",
       "        vertical-align: top;\n",
       "    }\n",
       "\n",
       "    .dataframe thead th {\n",
       "        text-align: right;\n",
       "    }\n",
       "</style>\n",
       "<table border=\"1\" class=\"dataframe\">\n",
       "  <thead>\n",
       "    <tr style=\"text-align: right;\">\n",
       "      <th></th>\n",
       "      <th>Exporter Country ID</th>\n",
       "      <th>Exporter Country</th>\n",
       "      <th>Year</th>\n",
       "      <th>Trade Value</th>\n",
       "      <th>HS6</th>\n",
       "      <th>Cube</th>\n",
       "    </tr>\n",
       "  </thead>\n",
       "  <tbody>\n",
       "    <tr>\n",
       "      <th>88</th>\n",
       "      <td>eucze</td>\n",
       "      <td>Czechia</td>\n",
       "      <td>2018</td>\n",
       "      <td>15794276.0</td>\n",
       "      <td>16850610</td>\n",
       "      <td>trade_i_baci_a_96</td>\n",
       "    </tr>\n",
       "    <tr>\n",
       "      <th>244</th>\n",
       "      <td>eucze</td>\n",
       "      <td>Czechia</td>\n",
       "      <td>2019</td>\n",
       "      <td>14717706.0</td>\n",
       "      <td>16850610</td>\n",
       "      <td>trade_i_baci_a_96</td>\n",
       "    </tr>\n",
       "    <tr>\n",
       "      <th>387</th>\n",
       "      <td>eucze</td>\n",
       "      <td>Czechia</td>\n",
       "      <td>2020</td>\n",
       "      <td>12712957.0</td>\n",
       "      <td>16850610</td>\n",
       "      <td>trade_i_baci_a_96</td>\n",
       "    </tr>\n",
       "    <tr>\n",
       "      <th>535</th>\n",
       "      <td>eucze</td>\n",
       "      <td>Czechia</td>\n",
       "      <td>2021</td>\n",
       "      <td>13593794.0</td>\n",
       "      <td>16850610</td>\n",
       "      <td>trade_i_baci_a_96</td>\n",
       "    </tr>\n",
       "    <tr>\n",
       "      <th>682</th>\n",
       "      <td>eucze</td>\n",
       "      <td>Czechia</td>\n",
       "      <td>2022</td>\n",
       "      <td>16707604.0</td>\n",
       "      <td>16850610</td>\n",
       "      <td>trade_i_baci_a_96</td>\n",
       "    </tr>\n",
       "  </tbody>\n",
       "</table>\n",
       "</div>"
      ],
      "text/plain": [
       "    Exporter Country ID Exporter Country  Year  Trade Value       HS6  \\\n",
       "88                eucze          Czechia  2018   15794276.0  16850610   \n",
       "244               eucze          Czechia  2019   14717706.0  16850610   \n",
       "387               eucze          Czechia  2020   12712957.0  16850610   \n",
       "535               eucze          Czechia  2021   13593794.0  16850610   \n",
       "682               eucze          Czechia  2022   16707604.0  16850610   \n",
       "\n",
       "                  Cube  \n",
       "88   trade_i_baci_a_96  \n",
       "244  trade_i_baci_a_96  \n",
       "387  trade_i_baci_a_96  \n",
       "535  trade_i_baci_a_96  \n",
       "682  trade_i_baci_a_96  "
      ]
     },
     "execution_count": 2,
     "metadata": {},
     "output_type": "execute_result"
    }
   ],
   "source": [
    "# Vyberu pouze řádky, kde je Exporter Country 'Czechia'\n",
    "df_czechia = df[df['Exporter Country'] == 'Czechia']\n",
    "\n",
    "# Ukázka několika řádků\n",
    "df_czechia.head()\n"
   ]
  },
  {
   "cell_type": "code",
   "execution_count": 3,
   "id": "d76b1ba8",
   "metadata": {},
   "outputs": [],
   "source": [
    "df_czechia.to_csv('oec_data_czechia.csv', index=False)\n"
   ]
  },
  {
   "cell_type": "code",
   "execution_count": 4,
   "id": "cbf07124",
   "metadata": {},
   "outputs": [
    {
     "name": "stdout",
     "output_type": "stream",
     "text": [
      "Sumární export baterií za rok 2018: 906,291,650 USD\n",
      "Sumární export baterií za rok 2023: 6,206,008,984 USD\n"
     ]
    }
   ],
   "source": [
    "# Sumární exportní hodnoty baterií za rok 2018 a 2023\n",
    "export_2018 = df_czechia[df_czechia['Year'] == 2018]['Trade Value'].sum()\n",
    "export_2023 = df_czechia[df_czechia['Year'] == 2023]['Trade Value'].sum()\n",
    "\n",
    "print(f\"Sumární export baterií za rok 2018: {export_2018:,.0f} USD\")\n",
    "print(f\"Sumární export baterií za rok 2023: {export_2023:,.0f} USD\")\n"
   ]
  },
  {
   "cell_type": "code",
   "execution_count": 5,
   "id": "dfd35ceb",
   "metadata": {},
   "outputs": [
    {
     "name": "stdout",
     "output_type": "stream",
     "text": [
      "Růst českého vývozu baterií mezi roky 2018 a 2023: 584.77%\n"
     ]
    }
   ],
   "source": [
    "growth = ((export_2023 - export_2018) / export_2018) * 100\n",
    "print(f\"Růst českého vývozu baterií mezi roky 2018 a 2023: {growth:.2f}%\")\n"
   ]
  },
  {
   "cell_type": "code",
   "execution_count": 6,
   "id": "0faa68d8",
   "metadata": {},
   "outputs": [
    {
     "name": "stdout",
     "output_type": "stream",
     "text": [
      "Procento baterií z celkového českého exportu v roce 2023: 3.21%\n"
     ]
    }
   ],
   "source": [
    "\n",
    "# Hodnota celkového exportu ČR v roce 2023 v USD\n",
    "total_export_usd = 193150000000  # přibližně 193,15 miliard USD\n",
    "\n",
    "# Hodnota baterií z předchozí analýzy (příklad, nahraď reálnou hodnotou)\n",
    "export_2023 =  6206008984  \n",
    "percent_batteries = (export_2023 / total_export_usd) * 100\n",
    "print(f\"Procento baterií z celkového českého exportu v roce 2023: {percent_batteries:.2f}%\")\n",
    "\n"
   ]
  },
  {
   "cell_type": "code",
   "execution_count": 7,
   "id": "e31dc282",
   "metadata": {},
   "outputs": [
    {
     "data": {
      "text/html": [
       "<div>\n",
       "<style scoped>\n",
       "    .dataframe tbody tr th:only-of-type {\n",
       "        vertical-align: middle;\n",
       "    }\n",
       "\n",
       "    .dataframe tbody tr th {\n",
       "        vertical-align: top;\n",
       "    }\n",
       "\n",
       "    .dataframe thead th {\n",
       "        text-align: right;\n",
       "    }\n",
       "</style>\n",
       "<table border=\"1\" class=\"dataframe\">\n",
       "  <thead>\n",
       "    <tr style=\"text-align: right;\">\n",
       "      <th></th>\n",
       "      <th>Ukazatel</th>\n",
       "      <th>Území</th>\n",
       "      <th>Roky</th>\n",
       "      <th>Hodnota</th>\n",
       "    </tr>\n",
       "  </thead>\n",
       "  <tbody>\n",
       "    <tr>\n",
       "      <th>0</th>\n",
       "      <td>Vývoz (v mil. Kč, FOB)</td>\n",
       "      <td>Česko</td>\n",
       "      <td>2024</td>\n",
       "      <td>4.663189e+06</td>\n",
       "    </tr>\n",
       "    <tr>\n",
       "      <th>1</th>\n",
       "      <td>Dovoz (v mil. Kč, CIF)</td>\n",
       "      <td>Česko</td>\n",
       "      <td>2024</td>\n",
       "      <td>4.442700e+06</td>\n",
       "    </tr>\n",
       "    <tr>\n",
       "      <th>2</th>\n",
       "      <td>Bilance (v mil. Kč)</td>\n",
       "      <td>Česko</td>\n",
       "      <td>2024</td>\n",
       "      <td>2.204889e+05</td>\n",
       "    </tr>\n",
       "    <tr>\n",
       "      <th>3</th>\n",
       "      <td>Vývoz (meziroční index)</td>\n",
       "      <td>Česko</td>\n",
       "      <td>2024</td>\n",
       "      <td>1.049690e+02</td>\n",
       "    </tr>\n",
       "    <tr>\n",
       "      <th>4</th>\n",
       "      <td>Dovoz (meziroční index)</td>\n",
       "      <td>Česko</td>\n",
       "      <td>2024</td>\n",
       "      <td>1.028417e+02</td>\n",
       "    </tr>\n",
       "  </tbody>\n",
       "</table>\n",
       "</div>"
      ],
      "text/plain": [
       "                  Ukazatel  Území  Roky       Hodnota\n",
       "0   Vývoz (v mil. Kč, FOB)  Česko  2024  4.663189e+06\n",
       "1   Dovoz (v mil. Kč, CIF)  Česko  2024  4.442700e+06\n",
       "2      Bilance (v mil. Kč)  Česko  2024  2.204889e+05\n",
       "3  Vývoz (meziroční index)  Česko  2024  1.049690e+02\n",
       "4  Dovoz (meziroční index)  Česko  2024  1.028417e+02"
      ]
     },
     "execution_count": 7,
     "metadata": {},
     "output_type": "execute_result"
    }
   ],
   "source": [
    "df = pd.read_csv('export.csv')\n",
    "\n",
    "df.head()"
   ]
  },
  {
   "cell_type": "code",
   "execution_count": 10,
   "id": "1437bd6a",
   "metadata": {},
   "outputs": [
    {
     "data": {
      "text/html": [
       "<div>\n",
       "<style scoped>\n",
       "    .dataframe tbody tr th:only-of-type {\n",
       "        vertical-align: middle;\n",
       "    }\n",
       "\n",
       "    .dataframe tbody tr th {\n",
       "        vertical-align: top;\n",
       "    }\n",
       "\n",
       "    .dataframe thead th {\n",
       "        text-align: right;\n",
       "    }\n",
       "</style>\n",
       "<table border=\"1\" class=\"dataframe\">\n",
       "  <thead>\n",
       "    <tr style=\"text-align: right;\">\n",
       "      <th></th>\n",
       "      <th>Ukazatel</th>\n",
       "      <th>Území</th>\n",
       "      <th>Roky</th>\n",
       "      <th>Hodnota</th>\n",
       "    </tr>\n",
       "  </thead>\n",
       "  <tbody>\n",
       "    <tr>\n",
       "      <th>3</th>\n",
       "      <td>Vývoz (meziroční index)</td>\n",
       "      <td>Česko</td>\n",
       "      <td>2024</td>\n",
       "      <td>104.969020</td>\n",
       "    </tr>\n",
       "    <tr>\n",
       "      <th>8</th>\n",
       "      <td>Vývoz (meziroční index)</td>\n",
       "      <td>Česko</td>\n",
       "      <td>2023</td>\n",
       "      <td>100.796945</td>\n",
       "    </tr>\n",
       "    <tr>\n",
       "      <th>13</th>\n",
       "      <td>Vývoz (meziroční index)</td>\n",
       "      <td>Česko</td>\n",
       "      <td>2022</td>\n",
       "      <td>113.550171</td>\n",
       "    </tr>\n",
       "    <tr>\n",
       "      <th>18</th>\n",
       "      <td>Vývoz (meziroční index)</td>\n",
       "      <td>Česko</td>\n",
       "      <td>2021</td>\n",
       "      <td>113.140723</td>\n",
       "    </tr>\n",
       "    <tr>\n",
       "      <th>23</th>\n",
       "      <td>Vývoz (meziroční index)</td>\n",
       "      <td>Česko</td>\n",
       "      <td>2020</td>\n",
       "      <td>92.925292</td>\n",
       "    </tr>\n",
       "  </tbody>\n",
       "</table>\n",
       "</div>"
      ],
      "text/plain": [
       "                   Ukazatel  Území  Roky     Hodnota\n",
       "3   Vývoz (meziroční index)  Česko  2024  104.969020\n",
       "8   Vývoz (meziroční index)  Česko  2023  100.796945\n",
       "13  Vývoz (meziroční index)  Česko  2022  113.550171\n",
       "18  Vývoz (meziroční index)  Česko  2021  113.140723\n",
       "23  Vývoz (meziroční index)  Česko  2020   92.925292"
      ]
     },
     "execution_count": 10,
     "metadata": {},
     "output_type": "execute_result"
    }
   ],
   "source": [
    "df_filtered = df[df['Ukazatel'] == 'Vývoz (meziroční index)']\n",
    "\n",
    "# Zobraz prvních pár vyfiltrovaných řádků\n",
    "df_filtered.head()\n"
   ]
  },
  {
   "cell_type": "code",
   "execution_count": null,
   "id": "51ca11c4",
   "metadata": {},
   "outputs": [],
   "source": []
  },
  {
   "cell_type": "code",
   "execution_count": null,
   "id": "2128c6b2",
   "metadata": {},
   "outputs": [],
   "source": [
    "df_filtered['Meziroční růst (%)'] = df_filtered['Hodnota'] - 100\n",
    "\n",
    "print(df_filtered)\n"
   ]
  },
  {
   "cell_type": "code",
   "execution_count": 32,
   "id": "bc44e5b6",
   "metadata": {},
   "outputs": [],
   "source": [
    "df_filtered.to_csv('export_tabulka.csv', index=False)\n"
   ]
  },
  {
   "cell_type": "markdown",
   "id": "219aa364",
   "metadata": {},
   "source": [
    "Prognoza růstu bateriového vývozu"
   ]
  },
  {
   "cell_type": "code",
   "execution_count": 40,
   "id": "f3046636",
   "metadata": {},
   "outputs": [
    {
     "name": "stdout",
     "output_type": "stream",
     "text": [
      "    Rok  Export_baterie  Export_celkem  Podil_baterii\n",
      "0  2023    6.206009e+09   1.931500e+11       0.032131\n",
      "1  2024    9.246953e+09   2.044493e+11       0.045229\n",
      "2  2025    1.248339e+10   2.164096e+11       0.057684\n",
      "3  2026    1.498006e+10   2.290695e+11       0.065395\n",
      "4  2027    1.722707e+10   2.424701e+11       0.071048\n",
      "5  2028    1.894978e+10   2.566546e+11       0.073834\n",
      "6  2029    2.046576e+10   2.716689e+11       0.075333\n",
      "7  2030    2.148905e+10   2.875615e+11       0.074729\n"
     ]
    }
   ],
   "source": [
    "import pandas as pd\n",
    "\n",
    "# Vstupní data\n",
    "bateriovy_export_2023 = 6206008984        # USD\n",
    "celkovy_export_2023 = 193150000000        # USD\n",
    "rusty_baterii_cr = rusty_baterii_cr = [0.49, 0.35, 0.20, 0.15, 0.10, 0.08, 0.05]  # postupně klesající růst baterií v ČR\n",
    "rust_celkovy_exportu_cr = 0.0585          # Celkový růst exportu ČR (stálý)\n",
    "roky = 7\n",
    "\n",
    "# Inicializace hodnot do seznamu pro každý rok\n",
    "baterie = [bateriovy_export_2023]\n",
    "celkem = [celkovy_export_2023]\n",
    "podily = [bateriovy_export_2023 / celkovy_export_2023]\n",
    "let = [2023]\n",
    "\n",
    "# Výpočty pro každý rok\n",
    "for i in range(roky):\n",
    "    baterie_nova = baterie[-1] * (1 + rusty_baterii_cr[i])\n",
    "    celkem_nova = celkem[-1] * (1 + rust_celkovy_exportu_cr)\n",
    "    baterie.append(baterie_nova)\n",
    "    celkem.append(celkem_nova)\n",
    "    podily.append(baterie_nova / celkem_nova)\n",
    "    let.append(2023 + i + 1)\n",
    "\n",
    "# Výsledky do DataFrame\n",
    "vysledky = pd.DataFrame({\n",
    "    'Rok': let,\n",
    "    'Export_baterie': baterie,\n",
    "    'Export_celkem': celkem,\n",
    "    'Podil_baterii': podily\n",
    "})\n",
    "\n",
    "# Výpis tabulky\n",
    "print(vysledky)\n"
   ]
  }
 ],
 "metadata": {
  "kernelspec": {
   "display_name": "Python 3",
   "language": "python",
   "name": "python3"
  },
  "language_info": {
   "codemirror_mode": {
    "name": "ipython",
    "version": 3
   },
   "file_extension": ".py",
   "mimetype": "text/x-python",
   "name": "python",
   "nbconvert_exporter": "python",
   "pygments_lexer": "ipython3",
   "version": "3.11.8"
  }
 },
 "nbformat": 4,
 "nbformat_minor": 5
}
